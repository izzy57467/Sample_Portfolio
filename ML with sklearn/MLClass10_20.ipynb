{
  "nbformat": 4,
  "nbformat_minor": 0,
  "metadata": {
    "colab": {
      "provenance": [],
      "collapsed_sections": []
    },
    "kernelspec": {
      "name": "python3",
      "display_name": "Python 3"
    },
    "language_info": {
      "name": "python"
    }
  },
  "cells": [
    {
      "cell_type": "markdown",
      "source": [
        "## ML with SKLearn\n",
        "\n",
        "\n"
      ],
      "metadata": {
        "id": "sp-Zz4rxJyje"
      }
    },
    {
      "cell_type": "markdown",
      "source": [
        "Isabelle Villegas - iav180000"
      ],
      "metadata": {
        "id": "G8A11MdOE-ty"
      }
    },
    {
      "cell_type": "code",
      "source": [
        "# 1. Read the Auto Data\n",
        "\n",
        "# Loading the data\n",
        "from pandas.core import describe\n",
        "import pandas as pd\n",
        "\n",
        "df = pd.read_csv('Auto.csv')\n",
        "\n",
        "# Print out the first few rows of the file\n",
        "print(df)\n",
        "\n",
        "# Printing out the dimensions of the data frame\n",
        "print('\\nDimensions of data frame:', df.shape)"
      ],
      "metadata": {
        "colab": {
          "base_uri": "https://localhost:8080/"
        },
        "id": "kfNJ3VmE6Bsf",
        "outputId": "9a9493b7-57b2-4150-a7aa-2b21e7aa7bc0"
      },
      "execution_count": null,
      "outputs": [
        {
          "output_type": "stream",
          "name": "stdout",
          "text": [
            "      mpg  cylinders  displacement  horsepower  weight  acceleration  year  \\\n",
            "0    18.0          8         307.0         130    3504          12.0  70.0   \n",
            "1    15.0          8         350.0         165    3693          11.5  70.0   \n",
            "2    18.0          8         318.0         150    3436          11.0  70.0   \n",
            "3    16.0          8         304.0         150    3433          12.0  70.0   \n",
            "4    17.0          8         302.0         140    3449           NaN  70.0   \n",
            "..    ...        ...           ...         ...     ...           ...   ...   \n",
            "387  27.0          4         140.0          86    2790          15.6  82.0   \n",
            "388  44.0          4          97.0          52    2130          24.6  82.0   \n",
            "389  32.0          4         135.0          84    2295          11.6  82.0   \n",
            "390  28.0          4         120.0          79    2625          18.6  82.0   \n",
            "391  31.0          4         119.0          82    2720          19.4  82.0   \n",
            "\n",
            "     origin                       name  \n",
            "0         1  chevrolet chevelle malibu  \n",
            "1         1          buick skylark 320  \n",
            "2         1         plymouth satellite  \n",
            "3         1              amc rebel sst  \n",
            "4         1                ford torino  \n",
            "..      ...                        ...  \n",
            "387       1            ford mustang gl  \n",
            "388       2                  vw pickup  \n",
            "389       1              dodge rampage  \n",
            "390       1                ford ranger  \n",
            "391       1                 chevy s-10  \n",
            "\n",
            "[392 rows x 9 columns]\n",
            "\n",
            "Dimensions of data frame: (392, 9)\n"
          ]
        }
      ]
    },
    {
      "cell_type": "code",
      "source": [
        "# 2. Data exploration with code\n",
        "\n",
        "# Using the describe function on mpg, weight, and year attributes\n",
        "df[['mpg', 'weight', 'year']].describe()\n",
        "\n",
        "# Range and average for mpg is [37.6, 23.445918]\n",
        "# Range and average for weight is [3527, 2977.584184]\n",
        "# Range and average for year is [12, 76.010256]"
      ],
      "metadata": {
        "colab": {
          "base_uri": "https://localhost:8080/",
          "height": 297
        },
        "id": "HdX6RnOk6L-f",
        "outputId": "43004f40-5661-4297-fbe5-0e1c03315824"
      },
      "execution_count": null,
      "outputs": [
        {
          "output_type": "execute_result",
          "data": {
            "text/plain": [
              "              mpg       weight        year\n",
              "count  392.000000   392.000000  390.000000\n",
              "mean    23.445918  2977.584184   76.010256\n",
              "std      7.805007   849.402560    3.668093\n",
              "min      9.000000  1613.000000   70.000000\n",
              "25%     17.000000  2225.250000   73.000000\n",
              "50%     22.750000  2803.500000   76.000000\n",
              "75%     29.000000  3614.750000   79.000000\n",
              "max     46.600000  5140.000000   82.000000"
            ],
            "text/html": [
              "\n",
              "  <div id=\"df-12a4e3d4-3de4-4d8f-8ebe-08f34effebee\">\n",
              "    <div class=\"colab-df-container\">\n",
              "      <div>\n",
              "<style scoped>\n",
              "    .dataframe tbody tr th:only-of-type {\n",
              "        vertical-align: middle;\n",
              "    }\n",
              "\n",
              "    .dataframe tbody tr th {\n",
              "        vertical-align: top;\n",
              "    }\n",
              "\n",
              "    .dataframe thead th {\n",
              "        text-align: right;\n",
              "    }\n",
              "</style>\n",
              "<table border=\"1\" class=\"dataframe\">\n",
              "  <thead>\n",
              "    <tr style=\"text-align: right;\">\n",
              "      <th></th>\n",
              "      <th>mpg</th>\n",
              "      <th>weight</th>\n",
              "      <th>year</th>\n",
              "    </tr>\n",
              "  </thead>\n",
              "  <tbody>\n",
              "    <tr>\n",
              "      <th>count</th>\n",
              "      <td>392.000000</td>\n",
              "      <td>392.000000</td>\n",
              "      <td>390.000000</td>\n",
              "    </tr>\n",
              "    <tr>\n",
              "      <th>mean</th>\n",
              "      <td>23.445918</td>\n",
              "      <td>2977.584184</td>\n",
              "      <td>76.010256</td>\n",
              "    </tr>\n",
              "    <tr>\n",
              "      <th>std</th>\n",
              "      <td>7.805007</td>\n",
              "      <td>849.402560</td>\n",
              "      <td>3.668093</td>\n",
              "    </tr>\n",
              "    <tr>\n",
              "      <th>min</th>\n",
              "      <td>9.000000</td>\n",
              "      <td>1613.000000</td>\n",
              "      <td>70.000000</td>\n",
              "    </tr>\n",
              "    <tr>\n",
              "      <th>25%</th>\n",
              "      <td>17.000000</td>\n",
              "      <td>2225.250000</td>\n",
              "      <td>73.000000</td>\n",
              "    </tr>\n",
              "    <tr>\n",
              "      <th>50%</th>\n",
              "      <td>22.750000</td>\n",
              "      <td>2803.500000</td>\n",
              "      <td>76.000000</td>\n",
              "    </tr>\n",
              "    <tr>\n",
              "      <th>75%</th>\n",
              "      <td>29.000000</td>\n",
              "      <td>3614.750000</td>\n",
              "      <td>79.000000</td>\n",
              "    </tr>\n",
              "    <tr>\n",
              "      <th>max</th>\n",
              "      <td>46.600000</td>\n",
              "      <td>5140.000000</td>\n",
              "      <td>82.000000</td>\n",
              "    </tr>\n",
              "  </tbody>\n",
              "</table>\n",
              "</div>\n",
              "      <button class=\"colab-df-convert\" onclick=\"convertToInteractive('df-12a4e3d4-3de4-4d8f-8ebe-08f34effebee')\"\n",
              "              title=\"Convert this dataframe to an interactive table.\"\n",
              "              style=\"display:none;\">\n",
              "        \n",
              "  <svg xmlns=\"http://www.w3.org/2000/svg\" height=\"24px\"viewBox=\"0 0 24 24\"\n",
              "       width=\"24px\">\n",
              "    <path d=\"M0 0h24v24H0V0z\" fill=\"none\"/>\n",
              "    <path d=\"M18.56 5.44l.94 2.06.94-2.06 2.06-.94-2.06-.94-.94-2.06-.94 2.06-2.06.94zm-11 1L8.5 8.5l.94-2.06 2.06-.94-2.06-.94L8.5 2.5l-.94 2.06-2.06.94zm10 10l.94 2.06.94-2.06 2.06-.94-2.06-.94-.94-2.06-.94 2.06-2.06.94z\"/><path d=\"M17.41 7.96l-1.37-1.37c-.4-.4-.92-.59-1.43-.59-.52 0-1.04.2-1.43.59L10.3 9.45l-7.72 7.72c-.78.78-.78 2.05 0 2.83L4 21.41c.39.39.9.59 1.41.59.51 0 1.02-.2 1.41-.59l7.78-7.78 2.81-2.81c.8-.78.8-2.07 0-2.86zM5.41 20L4 18.59l7.72-7.72 1.47 1.35L5.41 20z\"/>\n",
              "  </svg>\n",
              "      </button>\n",
              "      \n",
              "  <style>\n",
              "    .colab-df-container {\n",
              "      display:flex;\n",
              "      flex-wrap:wrap;\n",
              "      gap: 12px;\n",
              "    }\n",
              "\n",
              "    .colab-df-convert {\n",
              "      background-color: #E8F0FE;\n",
              "      border: none;\n",
              "      border-radius: 50%;\n",
              "      cursor: pointer;\n",
              "      display: none;\n",
              "      fill: #1967D2;\n",
              "      height: 32px;\n",
              "      padding: 0 0 0 0;\n",
              "      width: 32px;\n",
              "    }\n",
              "\n",
              "    .colab-df-convert:hover {\n",
              "      background-color: #E2EBFA;\n",
              "      box-shadow: 0px 1px 2px rgba(60, 64, 67, 0.3), 0px 1px 3px 1px rgba(60, 64, 67, 0.15);\n",
              "      fill: #174EA6;\n",
              "    }\n",
              "\n",
              "    [theme=dark] .colab-df-convert {\n",
              "      background-color: #3B4455;\n",
              "      fill: #D2E3FC;\n",
              "    }\n",
              "\n",
              "    [theme=dark] .colab-df-convert:hover {\n",
              "      background-color: #434B5C;\n",
              "      box-shadow: 0px 1px 3px 1px rgba(0, 0, 0, 0.15);\n",
              "      filter: drop-shadow(0px 1px 2px rgba(0, 0, 0, 0.3));\n",
              "      fill: #FFFFFF;\n",
              "    }\n",
              "  </style>\n",
              "\n",
              "      <script>\n",
              "        const buttonEl =\n",
              "          document.querySelector('#df-12a4e3d4-3de4-4d8f-8ebe-08f34effebee button.colab-df-convert');\n",
              "        buttonEl.style.display =\n",
              "          google.colab.kernel.accessAllowed ? 'block' : 'none';\n",
              "\n",
              "        async function convertToInteractive(key) {\n",
              "          const element = document.querySelector('#df-12a4e3d4-3de4-4d8f-8ebe-08f34effebee');\n",
              "          const dataTable =\n",
              "            await google.colab.kernel.invokeFunction('convertToInteractive',\n",
              "                                                     [key], {});\n",
              "          if (!dataTable) return;\n",
              "\n",
              "          const docLinkHtml = 'Like what you see? Visit the ' +\n",
              "            '<a target=\"_blank\" href=https://colab.research.google.com/notebooks/data_table.ipynb>data table notebook</a>'\n",
              "            + ' to learn more about interactive tables.';\n",
              "          element.innerHTML = '';\n",
              "          dataTable['output_type'] = 'display_data';\n",
              "          await google.colab.output.renderOutput(dataTable, element);\n",
              "          const docLink = document.createElement('div');\n",
              "          docLink.innerHTML = docLinkHtml;\n",
              "          element.appendChild(docLink);\n",
              "        }\n",
              "      </script>\n",
              "    </div>\n",
              "  </div>\n",
              "  "
            ]
          },
          "metadata": {},
          "execution_count": 63
        }
      ]
    },
    {
      "cell_type": "code",
      "source": [
        "# 3. Explore Data Types\n",
        "\n",
        "# check data types\n",
        "df.dtypes   \n",
        "\n",
        "# convert cylinders to categorical data type with numeric factor codes\n",
        "\n",
        "df2 = df.copy()\n",
        "\n",
        "df2.cylinders = df.cylinders.astype('category').cat.codes\n",
        "\n",
        "print(df2.dtypes, \"\\n\")\n",
        "print(df2.head())  \n",
        "\n",
        "# check data types\n",
        "df.dtypes\n",
        "\n",
        "# convert origin to categorical data type\n",
        "\n",
        "df1 = df.copy()\n",
        "\n",
        "df1.origin = df1.origin.astype('category')\n",
        "\n",
        "print(df1.dtypes, \"\\n\")\n",
        "print(df1.head())\n",
        "\n",
        "# check data types\n",
        "df.dtypes"
      ],
      "metadata": {
        "colab": {
          "base_uri": "https://localhost:8080/"
        },
        "id": "xc2lwh--6XHg",
        "outputId": "e5fbb508-49c2-4f5e-f961-cfaceba5c9cd"
      },
      "execution_count": null,
      "outputs": [
        {
          "output_type": "stream",
          "name": "stdout",
          "text": [
            "mpg             float64\n",
            "cylinders          int8\n",
            "displacement    float64\n",
            "horsepower        int64\n",
            "weight            int64\n",
            "acceleration    float64\n",
            "year            float64\n",
            "origin            int64\n",
            "name             object\n",
            "dtype: object \n",
            "\n",
            "    mpg  cylinders  displacement  horsepower  weight  acceleration  year  \\\n",
            "0  18.0          4         307.0         130    3504          12.0  70.0   \n",
            "1  15.0          4         350.0         165    3693          11.5  70.0   \n",
            "2  18.0          4         318.0         150    3436          11.0  70.0   \n",
            "3  16.0          4         304.0         150    3433          12.0  70.0   \n",
            "4  17.0          4         302.0         140    3449           NaN  70.0   \n",
            "\n",
            "   origin                       name  \n",
            "0       1  chevrolet chevelle malibu  \n",
            "1       1          buick skylark 320  \n",
            "2       1         plymouth satellite  \n",
            "3       1              amc rebel sst  \n",
            "4       1                ford torino  \n",
            "mpg              float64\n",
            "cylinders          int64\n",
            "displacement     float64\n",
            "horsepower         int64\n",
            "weight             int64\n",
            "acceleration     float64\n",
            "year             float64\n",
            "origin          category\n",
            "name              object\n",
            "dtype: object \n",
            "\n",
            "    mpg  cylinders  displacement  horsepower  weight  acceleration  year  \\\n",
            "0  18.0          8         307.0         130    3504          12.0  70.0   \n",
            "1  15.0          8         350.0         165    3693          11.5  70.0   \n",
            "2  18.0          8         318.0         150    3436          11.0  70.0   \n",
            "3  16.0          8         304.0         150    3433          12.0  70.0   \n",
            "4  17.0          8         302.0         140    3449           NaN  70.0   \n",
            "\n",
            "  origin                       name  \n",
            "0      1  chevrolet chevelle malibu  \n",
            "1      1          buick skylark 320  \n",
            "2      1         plymouth satellite  \n",
            "3      1              amc rebel sst  \n",
            "4      1                ford torino  \n"
          ]
        },
        {
          "output_type": "execute_result",
          "data": {
            "text/plain": [
              "mpg             float64\n",
              "cylinders         int64\n",
              "displacement    float64\n",
              "horsepower        int64\n",
              "weight            int64\n",
              "acceleration    float64\n",
              "year            float64\n",
              "origin            int64\n",
              "name             object\n",
              "dtype: object"
            ]
          },
          "metadata": {},
          "execution_count": 64
        }
      ]
    },
    {
      "cell_type": "code",
      "source": [
        "# 4. Deal with NAs\n",
        "\n",
        "df.isnull().sum()\n",
        "\n",
        "# drop rows with NAs\n",
        "\n",
        "df = df.dropna()\n",
        "print('\\nDimensions of data frame:', df.shape)"
      ],
      "metadata": {
        "colab": {
          "base_uri": "https://localhost:8080/"
        },
        "id": "26x04Brj6c61",
        "outputId": "bc6473b6-38d0-4db1-f4fe-04b5658dbc36"
      },
      "execution_count": null,
      "outputs": [
        {
          "output_type": "stream",
          "name": "stdout",
          "text": [
            "\n",
            "Dimensions of data frame: (389, 9)\n"
          ]
        }
      ]
    },
    {
      "cell_type": "code",
      "execution_count": null,
      "metadata": {
        "id": "5v_EFTPNPPgJ",
        "colab": {
          "base_uri": "https://localhost:8080/"
        },
        "outputId": "55a6566c-c61b-4e6c-b551-cd0e1da73619"
      },
      "outputs": [
        {
          "output_type": "stream",
          "name": "stdout",
          "text": [
            "23.490488431876607\n",
            "      mpg  cylinders  displacement  horsepower  weight  acceleration  year  \\\n",
            "0    18.0          8         307.0         130    3504          12.0  70.0   \n",
            "1    15.0          8         350.0         165    3693          11.5  70.0   \n",
            "2    18.0          8         318.0         150    3436          11.0  70.0   \n",
            "3    16.0          8         304.0         150    3433          12.0  70.0   \n",
            "6    14.0          8         454.0         220    4354           9.0  70.0   \n",
            "..    ...        ...           ...         ...     ...           ...   ...   \n",
            "387  27.0          4         140.0          86    2790          15.6  82.0   \n",
            "388  44.0          4          97.0          52    2130          24.6  82.0   \n",
            "389  32.0          4         135.0          84    2295          11.6  82.0   \n",
            "390  28.0          4         120.0          79    2625          18.6  82.0   \n",
            "391  31.0          4         119.0          82    2720          19.4  82.0   \n",
            "\n",
            "     origin                       name  mpg_high  \n",
            "0         1  chevrolet chevelle malibu         0  \n",
            "1         1          buick skylark 320         0  \n",
            "2         1         plymouth satellite         0  \n",
            "3         1              amc rebel sst         0  \n",
            "6         1           chevrolet impala         0  \n",
            "..      ...                        ...       ...  \n",
            "387       1            ford mustang gl         1  \n",
            "388       2                  vw pickup         1  \n",
            "389       1              dodge rampage         1  \n",
            "390       1                ford ranger         1  \n",
            "391       1                 chevy s-10         1  \n",
            "\n",
            "[389 rows x 10 columns]\n",
            "     cylinders  displacement  horsepower  weight  acceleration  year  origin  \\\n",
            "0            8         307.0         130    3504          12.0  70.0       1   \n",
            "1            8         350.0         165    3693          11.5  70.0       1   \n",
            "2            8         318.0         150    3436          11.0  70.0       1   \n",
            "3            8         304.0         150    3433          12.0  70.0       1   \n",
            "6            8         454.0         220    4354           9.0  70.0       1   \n",
            "..         ...           ...         ...     ...           ...   ...     ...   \n",
            "387          4         140.0          86    2790          15.6  82.0       1   \n",
            "388          4          97.0          52    2130          24.6  82.0       2   \n",
            "389          4         135.0          84    2295          11.6  82.0       1   \n",
            "390          4         120.0          79    2625          18.6  82.0       1   \n",
            "391          4         119.0          82    2720          19.4  82.0       1   \n",
            "\n",
            "     mpg_high  \n",
            "0           0  \n",
            "1           0  \n",
            "2           0  \n",
            "3           0  \n",
            "6           0  \n",
            "..        ...  \n",
            "387         1  \n",
            "388         1  \n",
            "389         1  \n",
            "390         1  \n",
            "391         1  \n",
            "\n",
            "[389 rows x 8 columns]\n"
          ]
        }
      ],
      "source": [
        "# 5. Modify Columns\n",
        "avg = df[\"mpg\"].mean()\n",
        "df[\"mpg_high\"] = df[\"mpg\"] > avg\n",
        "\n",
        "print(avg)\n",
        "\n",
        "df[\"mpg_high\"] = df[\"mpg_high\"].astype(int)\n",
        "print(df)\n",
        "\n",
        "del df[\"mpg\"]\n",
        "del df[\"name\"]\n",
        "\n",
        "print(df)\n"
      ]
    },
    {
      "cell_type": "code",
      "source": [
        "# 6. Data Exploration with graphs\n",
        "import seaborn as sb\n",
        "\n",
        "# Shows that my column \"mpg_high\" is indeed only values of 1 and 0 and in binary values\n",
        "sb.catplot(y=\"mpg_high\", data=df)\n",
        "\n",
        "# Weight and horsepower shown in the graph, the higher the weight, the higher the horsepower\n",
        "sb.catplot(x=\"horsepower\", y=\"weight\", data=df)\n",
        "\n",
        "# Plotting based on mpg_high as the different hues shows that although horsepower may go up \n",
        "# with weight, mpg is better with vehicles of a lower weight class\n",
        "sb.catplot(x=\"horsepower\", y=\"weight\", hue = \"mpg_high\", data=df)\n",
        "\n",
        "# Good mpg is shown with cars that weigh less\n",
        "sb.catplot(x=\"mpg_high\", y=\"weight\", data=df)\n",
        "\n"
      ],
      "metadata": {
        "colab": {
          "base_uri": "https://localhost:8080/",
          "height": 1000
        },
        "id": "YzBbBiX2x6GW",
        "outputId": "244945b0-6608-4dea-e412-ead98170f550"
      },
      "execution_count": null,
      "outputs": [
        {
          "output_type": "execute_result",
          "data": {
            "text/plain": [
              "<seaborn.axisgrid.FacetGrid at 0x7f72446a8710>"
            ]
          },
          "metadata": {},
          "execution_count": 67
        },
        {
          "output_type": "display_data",
          "data": {
            "text/plain": [
              "<Figure size 360x360 with 1 Axes>"
            ],
            "image/png": "[encoded data removed]"
          },
          "metadata": {
            "needs_background": "light"
          }
        },
        {
          "output_type": "display_data",
          "data": {
            "text/plain": [
              "<Figure size 360x360 with 1 Axes>"
            ],
            "image/png": "[encoded data removed]"
          },
          "metadata": {
            "needs_background": "light"
          }
        },
        {
          "output_type": "display_data",
          "data": {
            "text/plain": [
              "<Figure size 428.05x360 with 1 Axes>"
            ],
            "image/png": "[encoded data removed]"
          },
          "metadata": {
            "needs_background": "light"
          }
        },
        {
          "output_type": "display_data",
          "data": {
            "text/plain": [
              "<Figure size 360x360 with 1 Axes>"
            ],
            "image/png": "[encoded data removed]"
          },
          "metadata": {
            "needs_background": "light"
          }
        }
      ]
    },
    {
      "cell_type": "code",
      "source": [
        "# 7. Train/test split\n",
        "from sklearn.model_selection import train_test_split\n",
        "import random\n",
        "\n",
        "X = df.loc[:, ['cylinders', 'displacement', 'horsepower', 'weight', 'acceleration', 'year', 'origin']]\n",
        "y = df.mpg_high\n",
        "\n",
        "X_train, X_test, y_train, y_test = train_test_split(X, y, test_size=0.2, random_state=0)\n",
        "\n",
        "df_train, df_test= train_test_split(df, test_size=0.2, random_state=0)\n",
        "\n",
        "print('train dimensions:', df_train.shape)\n",
        "print('test dimensions:', df_test.shape)\n",
        "\n",
        "random.seed(1234)"
      ],
      "metadata": {
        "colab": {
          "base_uri": "https://localhost:8080/"
        },
        "id": "nOfZ6I480ceq",
        "outputId": "5d98497c-a27a-49fa-89e3-e17f0bd7f54d"
      },
      "execution_count": null,
      "outputs": [
        {
          "output_type": "stream",
          "name": "stdout",
          "text": [
            "train dimensions: (311, 8)\n",
            "test dimensions: (78, 8)\n"
          ]
        }
      ]
    },
    {
      "cell_type": "code",
      "source": [
        "# 8. Logistic Regression\n",
        "from sklearn.linear_model import LogisticRegression\n",
        "\n",
        "clf = LogisticRegression(solver='lbfgs', max_iter=1000)\n",
        "clf.fit(X_train, y_train)\n",
        "clf.score(X_train, y_train)"
      ],
      "metadata": {
        "colab": {
          "base_uri": "https://localhost:8080/"
        },
        "id": "n1YnexG92Udn",
        "outputId": "6da68b35-a9d0-44ae-da77-a911ec15f898"
      },
      "execution_count": null,
      "outputs": [
        {
          "output_type": "execute_result",
          "data": {
            "text/plain": [
              "0.9003215434083601"
            ]
          },
          "metadata": {},
          "execution_count": 48
        }
      ]
    },
    {
      "cell_type": "code",
      "source": [
        "# make predictions\n",
        "pred = clf.predict(X_test)\n",
        "\n",
        "# evaluate\n",
        "from sklearn.metrics import accuracy_score, precision_score, recall_score, f1_score\n",
        "\n",
        "print('accuracy score: ', accuracy_score(y_test, pred))\n",
        "print('precision score: ', precision_score(y_test, pred))\n",
        "print('recall score: ', recall_score(y_test, pred))\n",
        "print('f1 score: ', f1_score(y_test, pred))\n",
        "\n",
        "# confusion matrix\n",
        "from sklearn.metrics import confusion_matrix\n",
        "\n",
        "confusion_matrix(y_test, pred)"
      ],
      "metadata": {
        "colab": {
          "base_uri": "https://localhost:8080/"
        },
        "id": "TSOcfotF4KaG",
        "outputId": "08f9175d-1abb-4a18-bf93-d2745bc2b40d"
      },
      "execution_count": null,
      "outputs": [
        {
          "output_type": "stream",
          "name": "stdout",
          "text": [
            "accuracy score:  0.8717948717948718\n",
            "precision score:  0.8157894736842105\n",
            "recall score:  0.9117647058823529\n",
            "f1 score:  0.861111111111111\n"
          ]
        },
        {
          "output_type": "execute_result",
          "data": {
            "text/plain": [
              "array([[37,  7],\n",
              "       [ 3, 31]])"
            ]
          },
          "metadata": {},
          "execution_count": 54
        }
      ]
    },
    {
      "cell_type": "code",
      "source": [
        "# 9. Decision Tree\n",
        "\n",
        "from sklearn.tree import DecisionTreeClassifier\n",
        "\n",
        "clf = DecisionTreeClassifier()\n",
        "clf.fit(X_train, y_train)\n",
        "\n",
        "# make predictions\n",
        "pred = clf.predict(X_test)\n",
        "\n",
        "# evaluate\n",
        "from sklearn.metrics import accuracy_score, precision_score, recall_score, f1_score\n",
        "\n",
        "print('accuracy score: ', accuracy_score(y_test, pred))\n",
        "print('precision score: ', precision_score(y_test, pred))\n",
        "print('recall score: ', recall_score(y_test, pred))\n",
        "print('f1 score: ', f1_score(y_test, pred))\n",
        "\n",
        "# confusion matrix\n",
        "from sklearn.metrics import confusion_matrix\n",
        "\n",
        "confusion_matrix(y_test, pred)\n"
      ],
      "metadata": {
        "colab": {
          "base_uri": "https://localhost:8080/"
        },
        "id": "YAsYmpCU4nLS",
        "outputId": "5ff57331-903f-4229-ccc6-be5671a0f13c"
      },
      "execution_count": null,
      "outputs": [
        {
          "output_type": "stream",
          "name": "stdout",
          "text": [
            "accuracy score:  0.8974358974358975\n",
            "precision score:  0.8611111111111112\n",
            "recall score:  0.9117647058823529\n",
            "f1 score:  0.8857142857142858\n"
          ]
        },
        {
          "output_type": "execute_result",
          "data": {
            "text/plain": [
              "array([[39,  5],\n",
              "       [ 3, 31]])"
            ]
          },
          "metadata": {},
          "execution_count": 59
        }
      ]
    },
    {
      "cell_type": "code",
      "source": [
        "# 10. Neural Network\n",
        "\n",
        "# normalize the data\n",
        "from sklearn import preprocessing\n",
        "\n",
        "scaler = preprocessing.StandardScaler().fit(X_train)\n",
        "\n",
        "X_train_scaled = scaler.transform(X_train)\n",
        "X_test_scaled = scaler.transform(X_test)\n",
        "\n",
        "# train \n",
        "# Using the perceptron neural network topology\n",
        "from sklearn.neural_network import MLPClassifier\n",
        "\n",
        "clf = MLPClassifier(solver='lbfgs', hidden_layer_sizes=(5, 2), max_iter=500, random_state=1234)\n",
        "clf.fit(X_train_scaled, y_train)\n",
        "\n",
        "# make predictions\n",
        "pred = clf.predict(X_test_scaled)\n",
        "\n",
        "# output results\n",
        "print('accuracy = ', accuracy_score(y_test, pred))\n",
        "\n",
        "confusion_matrix(y_test, pred)\n",
        "\n",
        "# make predictions\n",
        "y_pred = clf.predict(X_test)\n",
        "\n",
        "# evaluation\n",
        "from sklearn.metrics import mean_squared_error, r2_score\n",
        "print('mse=', mean_squared_error(y_test, y_pred))\n",
        "print('correlation=', r2_score(y_test, y_pred))\n"
      ],
      "metadata": {
        "colab": {
          "base_uri": "https://localhost:8080/"
        },
        "id": "4ClOiuz042Ys",
        "outputId": "353e74c2-0dc8-45e0-8aa2-902deb18df07"
      },
      "execution_count": null,
      "outputs": [
        {
          "output_type": "stream",
          "name": "stdout",
          "text": [
            "accuracy =  0.9102564102564102\n",
            "mse= 0.4358974358974359\n",
            "correlation= -0.7727272727272718\n"
          ]
        },
        {
          "output_type": "stream",
          "name": "stderr",
          "text": [
            "/usr/local/lib/python3.7/dist-packages/sklearn/base.py:444: UserWarning: X has feature names, but MLPClassifier was fitted without feature names\n",
            "  f\"X has feature names, but {self.__class__.__name__} was fitted without\"\n"
          ]
        }
      ]
    },
    {
      "cell_type": "code",
      "source": [
        "# Using the perceptron neural network topology\n",
        "\n",
        "# train the algorithm\n",
        "from sklearn.neural_network import MLPRegressor\n",
        "\n",
        "regr = MLPRegressor(hidden_layer_sizes=(6, 3), max_iter=500, random_state=1234)\n",
        "regr.fit(X_train, y_train)\n",
        "\n",
        "# make predictions\n",
        "y_pred = regr.predict(X_test)\n",
        "\n",
        "# evaluation\n",
        "from sklearn.metrics import mean_squared_error, r2_score\n",
        "print('mse=', mean_squared_error(y_test, y_pred))\n",
        "print('correlation=', r2_score(y_test, y_pred))"
      ],
      "metadata": {
        "colab": {
          "base_uri": "https://localhost:8080/"
        },
        "id": "DPfjrhBN-tDl",
        "outputId": "ac01a597-4c63-4a73-ddd2-50b79e7a1a51"
      },
      "execution_count": null,
      "outputs": [
        {
          "output_type": "stream",
          "name": "stdout",
          "text": [
            "mse= 0.6613147721939365\n",
            "correlation= -1.6894646216764087\n"
          ]
        },
        {
          "output_type": "stream",
          "name": "stderr",
          "text": [
            "/usr/local/lib/python3.7/dist-packages/sklearn/neural_network/_multilayer_perceptron.py:696: ConvergenceWarning: Stochastic Optimizer: Maximum iterations (500) reached and the optimization hasn't converged yet.\n",
            "  ConvergenceWarning,\n"
          ]
        }
      ]
    },
    {
      "cell_type": "markdown",
      "source": [
        "From the results of both here we can see that the Classifier neural network achieved an mse of 0.436 while the Regressor neural network achieved a higher mse of 0.661. This reveals that the first neural network did a lot better than the second network with a more accurate fit."
      ],
      "metadata": {
        "id": "sbw5EKxeCUG9"
      }
    },
    {
      "cell_type": "markdown",
      "source": [
        "11. Analysis \n",
        "\n",
        "  a) Of all of the algorithms, it appeared that the neural networks did the best in terms of accuracy.\n",
        "\n",
        "  b) The first neural network had the best accuracy at 0.910 while the logistic regression came in a close second with an accuracy of 0.900\n",
        "\n",
        "  c) Although neural networks are more prone to overfitting a data set, in this example, it is better, probably because the data set is on the smaller side. Normally, logistic regression is pretty good though since it is made for binary classification and since we were testing out mpg_high in this homework it made for an accurate determinant of mpg. \n",
        "\n",
        "  d) Comparing R to sklearn, I think I definitely prefer to use python in Google's CoLab, just because I feel like it is a lot easier and straight forward to understand and modify. I think in the future I would like to play more with python in CoLab because of its ease of use."
      ],
      "metadata": {
        "id": "v96irhQlDWLo"
      }
    }
  ]
}